{
  "nbformat": 4,
  "nbformat_minor": 0,
  "metadata": {
    "colab": {
      "name": "0519fastcampus.ipynb",
      "provenance": [],
      "collapsed_sections": [],
      "authorship_tag": "ABX9TyMiBWtWG/rNg54D29Yi77kO",
      "include_colab_link": true
    },
    "kernelspec": {
      "name": "python3",
      "display_name": "Python 3"
    }
  },
  "cells": [
    {
      "cell_type": "markdown",
      "metadata": {
        "id": "view-in-github",
        "colab_type": "text"
      },
      "source": [
        "<a href=\"https://colab.research.google.com/github/MasterAlvin/Spartacodingclub_Alvin/blob/master/0519fastcampus.ipynb\" target=\"_parent\"><img src=\"https://colab.research.google.com/assets/colab-badge.svg\" alt=\"Open In Colab\"/></a>"
      ]
    },
    {
      "cell_type": "markdown",
      "metadata": {
        "id": "ZDC1jZjoLx3_",
        "colab_type": "text"
      },
      "source": [
        "0519_패캠 데이터사이언스"
      ]
    },
    {
      "cell_type": "code",
      "metadata": {
        "id": "d0Ebh4H0L4jl",
        "colab_type": "code",
        "outputId": "8cf98992-9074-4f7e-cc37-1f8c47882431",
        "colab": {
          "base_uri": "https://localhost:8080/",
          "height": 161
        }
      },
      "source": [
        "# 구구단 출력 (가로 출력)\n",
        "\"\"\"\n",
        "2*1=2 3*1=3\n",
        "hint 이중포문\n",
        "string format\n",
        "print end = '\\t'\n",
        "\"\"\"\n",
        "\n",
        "for i in range(2,10):\n",
        "    for j in range(1,10):\n",
        "        print(\"{}*{}={}\".format(i,j,i*j), end = '\\t')\n",
        "    print()\n",
        "\n"
      ],
      "execution_count": 0,
      "outputs": [
        {
          "output_type": "stream",
          "text": [
            "2*1=2\t2*2=4\t2*3=6\t2*4=8\t2*5=10\t2*6=12\t2*7=14\t2*8=16\t2*9=18\t\n",
            "3*1=3\t3*2=6\t3*3=9\t3*4=12\t3*5=15\t3*6=18\t3*7=21\t3*8=24\t3*9=27\t\n",
            "4*1=4\t4*2=8\t4*3=12\t4*4=16\t4*5=20\t4*6=24\t4*7=28\t4*8=32\t4*9=36\t\n",
            "5*1=5\t5*2=10\t5*3=15\t5*4=20\t5*5=25\t5*6=30\t5*7=35\t5*8=40\t5*9=45\t\n",
            "6*1=6\t6*2=12\t6*3=18\t6*4=24\t6*5=30\t6*6=36\t6*7=42\t6*8=48\t6*9=54\t\n",
            "7*1=7\t7*2=14\t7*3=21\t7*4=28\t7*5=35\t7*6=42\t7*7=49\t7*8=56\t7*9=63\t\n",
            "8*1=8\t8*2=16\t8*3=24\t8*4=32\t8*5=40\t8*6=48\t8*7=56\t8*8=64\t8*9=72\t\n",
            "9*1=9\t9*2=18\t9*3=27\t9*4=36\t9*5=45\t9*6=54\t9*7=63\t9*8=72\t9*9=81\t\n"
          ],
          "name": "stdout"
        }
      ]
    },
    {
      "cell_type": "markdown",
      "metadata": {
        "id": "M1m2UTfNNkQv",
        "colab_type": "text"
      },
      "source": [
        "# list comprehention\n",
        "  - 리스트 데이터를 만들어주는 방법\n",
        "  - for문 보다 빠르게 동작합니다.\n",
        "\n",
        "\n",
        "  "
      ]
    },
    {
      "cell_type": "code",
      "metadata": {
        "id": "kfM96VMDQfJ5",
        "colab_type": "code",
        "outputId": "fd114369-545f-4ca6-a276-506753049a1d",
        "colab": {
          "base_uri": "https://localhost:8080/",
          "height": 35
        }
      },
      "source": [
        "# 각각 값에 제곱한 결과 출력\n",
        "\n",
        "ls = [0,1,2,3]\n",
        "result = []\n",
        "\n",
        "for data in ls:\n",
        "  result.append(data**2)\n",
        "\n",
        "result"
      ],
      "execution_count": 0,
      "outputs": [
        {
          "output_type": "execute_result",
          "data": {
            "text/plain": [
              "[0, 1, 4, 9]"
            ]
          },
          "metadata": {
            "tags": []
          },
          "execution_count": 9
        }
      ]
    },
    {
      "cell_type": "code",
      "metadata": {
        "id": "Inz2gDy5QkdW",
        "colab_type": "code",
        "outputId": "51f8e9f4-51e4-43c5-95fd-f26161084cb8",
        "colab": {
          "base_uri": "https://localhost:8080/",
          "height": 35
        }
      },
      "source": [
        "result = [data**2 for data in ls]\n",
        "result\n"
      ],
      "execution_count": 0,
      "outputs": [
        {
          "output_type": "execute_result",
          "data": {
            "text/plain": [
              "[0, 1, 4, 9]"
            ]
          },
          "metadata": {
            "tags": []
          },
          "execution_count": 10
        }
      ]
    },
    {
      "cell_type": "code",
      "metadata": {
        "id": "w2_qE0feRIS0",
        "colab_type": "code",
        "outputId": "da7bc433-1c5f-43d9-eaad-b799b9e03c48",
        "colab": {
          "base_uri": "https://localhost:8080/",
          "height": 35
        }
      },
      "source": [
        "# 리스트 컴프리헨션을 써서 홀수와 짝수를 리스트로 출력\n",
        "# 삼항연산 사용\n",
        "# True if condition else (False) 숫자 1이 True고 0이 False임\n",
        "\n",
        "ls = [0,1,2,3,5,6]\n",
        "result = [\"짝수\", \"홀수\", \"짝수\", \"홀수\"]\n",
        "\n",
        "\n",
        "result = [\n",
        "          \"홀수\" if data % 2 else \"짝수\"\n",
        "          for data in ls \n",
        "]\n",
        "result"
      ],
      "execution_count": 0,
      "outputs": [
        {
          "output_type": "execute_result",
          "data": {
            "text/plain": [
              "['짝수', '홀수', '짝수', '홀수', '홀수', '짝수']"
            ]
          },
          "metadata": {
            "tags": []
          },
          "execution_count": 18
        }
      ]
    },
    {
      "cell_type": "markdown",
      "metadata": {
        "id": "oGdmoNQ7UDs7",
        "colab_type": "text"
      },
      "source": [
        "### 2. 반복문\n",
        "  - 반복되는 코드를 실행할때 사용\n",
        "  - while, for, break, continue\n",
        "  - list comprehention\n",
        "  "
      ]
    },
    {
      "cell_type": "code",
      "metadata": {
        "id": "yH7gFCKhUQZY",
        "colab_type": "code",
        "outputId": "18e133f5-eb1c-41b1-bf9d-81fcd5fb8426",
        "colab": {
          "base_uri": "https://localhost:8080/",
          "height": 71
        }
      },
      "source": [
        "# while\n",
        "\n",
        "data = 3\n",
        "\n",
        "while data: #조건이 false가 될때까지 구문의 코드를 실행\n",
        "\n",
        "  # 반복되는 코드\n",
        "  print(data)\n",
        "  data -= 1 \n",
        "\n",
        "  "
      ],
      "execution_count": 0,
      "outputs": [
        {
          "output_type": "stream",
          "text": [
            "3\n",
            "2\n",
            "1\n"
          ],
          "name": "stdout"
        }
      ]
    },
    {
      "cell_type": "code",
      "metadata": {
        "id": "4OPKBQMWVZs4",
        "colab_type": "code",
        "outputId": "55134352-cd33-49ee-f2f4-c4a5dc2e4a17",
        "colab": {
          "base_uri": "https://localhost:8080/",
          "height": 35
        }
      },
      "source": [
        "# while문을 이용한 문제풀이\n",
        "# 학생이 국어 80, 영어 90, 수학 100점 일때 총점과 평균 출력\n",
        "# 학생의 점수는 list, dict 표현\n",
        "\n",
        "points_ls = [80,90,100]\n",
        "total, avg = 0, 0\n",
        "\n",
        "datas = points_ls.copy() # 깊은복사: 원본데이터를 보존\n",
        "\n",
        "while datas:\n",
        "  total += datas.pop()\n",
        "\n",
        "avg = total / len(points_ls)\n",
        "total, avg\n",
        "  "
      ],
      "execution_count": 0,
      "outputs": [
        {
          "output_type": "execute_result",
          "data": {
            "text/plain": [
              "(270, 90.0)"
            ]
          },
          "metadata": {
            "tags": []
          },
          "execution_count": 22
        }
      ]
    },
    {
      "cell_type": "code",
      "metadata": {
        "id": "Kvg0PODzX5qe",
        "colab_type": "code",
        "colab": {}
      },
      "source": [
        ""
      ],
      "execution_count": 0,
      "outputs": []
    }
  ]
}